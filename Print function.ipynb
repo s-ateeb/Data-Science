{
 "cells": [
  {
   "cell_type": "markdown",
   "id": "5e08ddb5",
   "metadata": {},
   "source": [
    "# Print() Function\n",
    "\n",
    "#### •\tIt helps to print anything in the output window.\n",
    "#### Syntax:- \n",
    "####    Print(“any string”)\n",
    "####     Print(‘any string’)\n",
    "####    Print (any digit)\n",
    "#### \tWe use quotes for string."
   ]
  },
  {
   "cell_type": "code",
   "execution_count": 8,
   "id": "86b18a42",
   "metadata": {},
   "outputs": [
    {
     "name": "stdout",
     "output_type": "stream",
     "text": [
      "welcome to python programming world\n"
     ]
    }
   ],
   "source": [
    "print(\"welcome to python programming world\")"
   ]
  },
  {
   "cell_type": "code",
   "execution_count": 5,
   "id": "af74852a",
   "metadata": {},
   "outputs": [
    {
     "name": "stdout",
     "output_type": "stream",
     "text": [
      "welcome to the data science world\n"
     ]
    }
   ],
   "source": [
    "print('welcome to the data science world')"
   ]
  },
  {
   "cell_type": "code",
   "execution_count": 6,
   "id": "744b4105",
   "metadata": {},
   "outputs": [
    {
     "name": "stdout",
     "output_type": "stream",
     "text": [
      "123\n"
     ]
    }
   ],
   "source": [
    "print(123)"
   ]
  },
  {
   "cell_type": "markdown",
   "id": "9786e9ac",
   "metadata": {},
   "source": [
    "#### •\tWe can use single quotes inside the double quotes."
   ]
  },
  {
   "cell_type": "code",
   "execution_count": 3,
   "id": "36800535",
   "metadata": {},
   "outputs": [
    {
     "name": "stdout",
     "output_type": "stream",
     "text": [
      "Hey 'kaizer' is here\n"
     ]
    }
   ],
   "source": [
    "print(\"Hey 'kaizer' is here\")"
   ]
  },
  {
   "cell_type": "markdown",
   "id": "0c6c7ccd",
   "metadata": {},
   "source": [
    "#### •\tWe can used double quotes inside the single quotes."
   ]
  },
  {
   "cell_type": "code",
   "execution_count": 11,
   "id": "8cc530a9",
   "metadata": {},
   "outputs": [
    {
     "name": "stdout",
     "output_type": "stream",
     "text": [
      "Here you can learn \"Data-Science\" step by step\n"
     ]
    }
   ],
   "source": [
    "print('Here you can learn \"Data-Science\" step by step')"
   ]
  },
  {
   "cell_type": "markdown",
   "id": "eb7e5971",
   "metadata": {},
   "source": [
    "#### \tCan not use single quotes inside the single quotes."
   ]
  },
  {
   "cell_type": "code",
   "execution_count": 12,
   "id": "6d1b8e63",
   "metadata": {},
   "outputs": [
    {
     "ename": "SyntaxError",
     "evalue": "invalid syntax (2348431586.py, line 1)",
     "output_type": "error",
     "traceback": [
      "\u001b[1;36m  File \u001b[1;32m\"C:\\Users\\satee\\AppData\\Local\\Temp\\ipykernel_6288\\2348431586.py\"\u001b[1;36m, line \u001b[1;32m1\u001b[0m\n\u001b[1;33m    print('Here you can learn 'Data-Science' step by step')\u001b[0m\n\u001b[1;37m                               ^\u001b[0m\n\u001b[1;31mSyntaxError\u001b[0m\u001b[1;31m:\u001b[0m invalid syntax\n"
     ]
    }
   ],
   "source": [
    "print('Here you can learn 'Data-Science' step by step')"
   ]
  },
  {
   "cell_type": "code",
   "execution_count": 13,
   "id": "9fa89940",
   "metadata": {},
   "outputs": [],
   "source": [
    "#### •\tCan-not use double quotes inside the double quotes."
   ]
  },
  {
   "cell_type": "code",
   "execution_count": 14,
   "id": "3c7d21d7",
   "metadata": {},
   "outputs": [
    {
     "ename": "SyntaxError",
     "evalue": "invalid syntax (2810924591.py, line 1)",
     "output_type": "error",
     "traceback": [
      "\u001b[1;36m  File \u001b[1;32m\"C:\\Users\\satee\\AppData\\Local\\Temp\\ipykernel_6288\\2810924591.py\"\u001b[1;36m, line \u001b[1;32m1\u001b[0m\n\u001b[1;33m    print(\"Future \"money\" is Data\")\u001b[0m\n\u001b[1;37m                   ^\u001b[0m\n\u001b[1;31mSyntaxError\u001b[0m\u001b[1;31m:\u001b[0m invalid syntax\n"
     ]
    }
   ],
   "source": [
    "print(\"Future \"money\" is Data\")"
   ]
  },
  {
   "cell_type": "code",
   "execution_count": null,
   "id": "e0b938d2",
   "metadata": {},
   "outputs": [],
   "source": []
  }
 ],
 "metadata": {
  "kernelspec": {
   "display_name": "Python 3 (ipykernel)",
   "language": "python",
   "name": "python3"
  },
  "language_info": {
   "codemirror_mode": {
    "name": "ipython",
    "version": 3
   },
   "file_extension": ".py",
   "mimetype": "text/x-python",
   "name": "python",
   "nbconvert_exporter": "python",
   "pygments_lexer": "ipython3",
   "version": "3.9.13"
  }
 },
 "nbformat": 4,
 "nbformat_minor": 5
}
